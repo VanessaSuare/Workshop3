{
 "cells": [
  {
   "cell_type": "markdown",
   "id": "eb1a084f-b8a8-4406-a548-2168fd67733f",
   "metadata": {},
   "source": [
    "# EDA Dataset until 2015 to 2017"
   ]
  },
  {
   "cell_type": "markdown",
   "id": "7be61883-2936-468e-999d-c10a81dcb0be",
   "metadata": {},
   "source": [
    "Import libraries that we use"
   ]
  },
  {
   "cell_type": "code",
   "execution_count": null,
   "id": "a104b5f8-c745-446e-916b-4bb5a5338793",
   "metadata": {},
   "outputs": [
    {
     "ename": "",
     "evalue": "",
     "output_type": "error",
     "traceback": [
      "\u001b[1;31mRunning cells with 'ws3 (Python 3.12.2)' requires the ipykernel package.\n",
      "\u001b[1;31mRun the following command to install 'ipykernel' into the Python environment. \n",
      "\u001b[1;31mCommand: '\"c:/Users/dayan/OneDrive - Universidad Autonoma de Occidente/ETL/Workshop3/ws3/Scripts/python.exe\" -m pip install ipykernel -U --force-reinstall'"
     ]
    }
   ],
   "source": [
    "import matplotlib.pyplot as plt\n",
    "import numpy as np\n",
    "import pandas as pd\n",
    "import seaborn as sns\n",
    "import sys\n",
    "from datetime import datetime"
   ]
  },
  {
   "cell_type": "markdown",
   "id": "e59dd192-0255-40f8-8886-a185afb3e936",
   "metadata": {},
   "source": [
    "Read the csv files"
   ]
  },
  {
   "cell_type": "code",
   "execution_count": null,
   "id": "d80e25ee-fdf7-487e-93cf-ccb2fc559228",
   "metadata": {},
   "outputs": [
    {
     "ename": "",
     "evalue": "",
     "output_type": "error",
     "traceback": [
      "\u001b[1;31mRunning cells with 'ws3 (Python 3.12.2)' requires the ipykernel package.\n",
      "\u001b[1;31mRun the following command to install 'ipykernel' into the Python environment. \n",
      "\u001b[1;31mCommand: '\"c:/Users/dayan/OneDrive - Universidad Autonoma de Occidente/ETL/Workshop3/ws3/Scripts/python.exe\" -m pip install ipykernel -U --force-reinstall'"
     ]
    }
   ],
   "source": [
    "sys.path.append('data/')\n",
    "\n",
    "data_2015 = pd.read_csv('data/2015.csv')\n",
    "data_2016 = pd.read_csv('data/2016.csv')\n",
    "data_2017 = pd.read_csv('data/2017.csv')\n",
    "data_2018 = pd.read_csv('data/2018.csv')\n",
    "data_2019 = pd.read_csv('data/2019.csv')"
   ]
  },
  {
   "cell_type": "markdown",
   "id": "87bad194-3338-433e-afd5-876c301b7175",
   "metadata": {},
   "source": [
    "## General information"
   ]
  },
  {
   "cell_type": "code",
   "execution_count": null,
   "id": "f59b3480-253e-48fc-b14b-89f799c2ed48",
   "metadata": {},
   "outputs": [
    {
     "ename": "",
     "evalue": "",
     "output_type": "error",
     "traceback": [
      "\u001b[1;31mRunning cells with 'ws3 (Python 3.12.2)' requires the ipykernel package.\n",
      "\u001b[1;31mRun the following command to install 'ipykernel' into the Python environment. \n",
      "\u001b[1;31mCommand: '\"c:/Users/dayan/OneDrive - Universidad Autonoma de Occidente/ETL/Workshop3/ws3/Scripts/python.exe\" -m pip install ipykernel -U --force-reinstall'"
     ]
    }
   ],
   "source": [
    "data_2015.info()\n",
    "data_2015.head()"
   ]
  },
  {
   "cell_type": "code",
   "execution_count": null,
   "id": "6a625342-6d97-40a7-b556-511e62cf9450",
   "metadata": {},
   "outputs": [
    {
     "ename": "",
     "evalue": "",
     "output_type": "error",
     "traceback": [
      "\u001b[1;31mRunning cells with 'ws3 (Python 3.12.2)' requires the ipykernel package.\n",
      "\u001b[1;31mRun the following command to install 'ipykernel' into the Python environment. \n",
      "\u001b[1;31mCommand: '\"c:/Users/dayan/OneDrive - Universidad Autonoma de Occidente/ETL/Workshop3/ws3/Scripts/python.exe\" -m pip install ipykernel -U --force-reinstall'"
     ]
    }
   ],
   "source": [
    "data_2015.describe()"
   ]
  },
  {
   "cell_type": "code",
   "execution_count": null,
   "id": "4e2f48d1-dc75-4b51-a675-d57a0fc6aca9",
   "metadata": {},
   "outputs": [
    {
     "ename": "",
     "evalue": "",
     "output_type": "error",
     "traceback": [
      "\u001b[1;31mRunning cells with 'ws3 (Python 3.12.2)' requires the ipykernel package.\n",
      "\u001b[1;31mRun the following command to install 'ipykernel' into the Python environment. \n",
      "\u001b[1;31mCommand: '\"c:/Users/dayan/OneDrive - Universidad Autonoma de Occidente/ETL/Workshop3/ws3/Scripts/python.exe\" -m pip install ipykernel -U --force-reinstall'"
     ]
    }
   ],
   "source": [
    "data_2016.info()\n",
    "data_2016.head()"
   ]
  },
  {
   "cell_type": "code",
   "execution_count": null,
   "id": "87a8f958-7bba-4ea2-9bf0-60a33783fff4",
   "metadata": {},
   "outputs": [
    {
     "ename": "",
     "evalue": "",
     "output_type": "error",
     "traceback": [
      "\u001b[1;31mRunning cells with 'ws3 (Python 3.12.2)' requires the ipykernel package.\n",
      "\u001b[1;31mRun the following command to install 'ipykernel' into the Python environment. \n",
      "\u001b[1;31mCommand: '\"c:/Users/dayan/OneDrive - Universidad Autonoma de Occidente/ETL/Workshop3/ws3/Scripts/python.exe\" -m pip install ipykernel -U --force-reinstall'"
     ]
    }
   ],
   "source": [
    "data_2016.describe()"
   ]
  },
  {
   "cell_type": "code",
   "execution_count": null,
   "id": "2390eee9-d5b6-49d2-8bcf-d3c0e854e11e",
   "metadata": {},
   "outputs": [
    {
     "ename": "",
     "evalue": "",
     "output_type": "error",
     "traceback": [
      "\u001b[1;31mRunning cells with 'ws3 (Python 3.12.2)' requires the ipykernel package.\n",
      "\u001b[1;31mRun the following command to install 'ipykernel' into the Python environment. \n",
      "\u001b[1;31mCommand: '\"c:/Users/dayan/OneDrive - Universidad Autonoma de Occidente/ETL/Workshop3/ws3/Scripts/python.exe\" -m pip install ipykernel -U --force-reinstall'"
     ]
    }
   ],
   "source": [
    "data_2017.info()\n",
    "data_2017.head()"
   ]
  },
  {
   "cell_type": "code",
   "execution_count": null,
   "id": "3d86c744-64f6-4f29-b813-12055590de96",
   "metadata": {},
   "outputs": [
    {
     "ename": "",
     "evalue": "",
     "output_type": "error",
     "traceback": [
      "\u001b[1;31mRunning cells with 'ws3 (Python 3.12.2)' requires the ipykernel package.\n",
      "\u001b[1;31mRun the following command to install 'ipykernel' into the Python environment. \n",
      "\u001b[1;31mCommand: '\"c:/Users/dayan/OneDrive - Universidad Autonoma de Occidente/ETL/Workshop3/ws3/Scripts/python.exe\" -m pip install ipykernel -U --force-reinstall'"
     ]
    }
   ],
   "source": [
    "data_2017.describe()"
   ]
  },
  {
   "cell_type": "code",
   "execution_count": null,
   "id": "d6b6d313-6d98-48ed-9af9-c35fd9df0dc8",
   "metadata": {},
   "outputs": [
    {
     "ename": "",
     "evalue": "",
     "output_type": "error",
     "traceback": [
      "\u001b[1;31mRunning cells with 'ws3 (Python 3.12.2)' requires the ipykernel package.\n",
      "\u001b[1;31mRun the following command to install 'ipykernel' into the Python environment. \n",
      "\u001b[1;31mCommand: '\"c:/Users/dayan/OneDrive - Universidad Autonoma de Occidente/ETL/Workshop3/ws3/Scripts/python.exe\" -m pip install ipykernel -U --force-reinstall'"
     ]
    }
   ],
   "source": [
    "data_2018.info()\n",
    "data_2018.head()"
   ]
  },
  {
   "cell_type": "code",
   "execution_count": null,
   "id": "5336cc83-803c-4863-a8c5-c7fa3b0377c3",
   "metadata": {},
   "outputs": [
    {
     "ename": "",
     "evalue": "",
     "output_type": "error",
     "traceback": [
      "\u001b[1;31mRunning cells with 'ws3 (Python 3.12.2)' requires the ipykernel package.\n",
      "\u001b[1;31mRun the following command to install 'ipykernel' into the Python environment. \n",
      "\u001b[1;31mCommand: '\"c:/Users/dayan/OneDrive - Universidad Autonoma de Occidente/ETL/Workshop3/ws3/Scripts/python.exe\" -m pip install ipykernel -U --force-reinstall'"
     ]
    }
   ],
   "source": [
    "data_2018.describe()"
   ]
  },
  {
   "cell_type": "code",
   "execution_count": null,
   "id": "7f5b64ab-22cc-4f94-8805-17881f5abece",
   "metadata": {},
   "outputs": [
    {
     "ename": "",
     "evalue": "",
     "output_type": "error",
     "traceback": [
      "\u001b[1;31mRunning cells with 'ws3 (Python 3.12.2)' requires the ipykernel package.\n",
      "\u001b[1;31mRun the following command to install 'ipykernel' into the Python environment. \n",
      "\u001b[1;31mCommand: '\"c:/Users/dayan/OneDrive - Universidad Autonoma de Occidente/ETL/Workshop3/ws3/Scripts/python.exe\" -m pip install ipykernel -U --force-reinstall'"
     ]
    }
   ],
   "source": [
    "data_2019.info()\n",
    "data_2019.head()"
   ]
  },
  {
   "cell_type": "code",
   "execution_count": null,
   "id": "a893a34c-85f6-4678-a465-9b711314b689",
   "metadata": {},
   "outputs": [
    {
     "ename": "",
     "evalue": "",
     "output_type": "error",
     "traceback": [
      "\u001b[1;31mRunning cells with 'ws3 (Python 3.12.2)' requires the ipykernel package.\n",
      "\u001b[1;31mRun the following command to install 'ipykernel' into the Python environment. \n",
      "\u001b[1;31mCommand: '\"c:/Users/dayan/OneDrive - Universidad Autonoma de Occidente/ETL/Workshop3/ws3/Scripts/python.exe\" -m pip install ipykernel -U --force-reinstall'"
     ]
    }
   ],
   "source": [
    "data_2019.describe()"
   ]
  },
  {
   "cell_type": "markdown",
   "id": "414d4959-a184-4f34-9c9d-689b7a677e1a",
   "metadata": {},
   "source": [
    "Lets search missing values"
   ]
  },
  {
   "cell_type": "code",
   "execution_count": null,
   "id": "a5fbe21e-f256-42a3-b20d-a8cf1cadf143",
   "metadata": {},
   "outputs": [
    {
     "ename": "",
     "evalue": "",
     "output_type": "error",
     "traceback": [
      "\u001b[1;31mRunning cells with 'ws3 (Python 3.12.2)' requires the ipykernel package.\n",
      "\u001b[1;31mRun the following command to install 'ipykernel' into the Python environment. \n",
      "\u001b[1;31mCommand: '\"c:/Users/dayan/OneDrive - Universidad Autonoma de Occidente/ETL/Workshop3/ws3/Scripts/python.exe\" -m pip install ipykernel -U --force-reinstall'"
     ]
    }
   ],
   "source": [
    "data_2015.isnull().sum()"
   ]
  },
  {
   "cell_type": "code",
   "execution_count": null,
   "id": "a3da0fc1-2d61-4db0-bbc6-4bdae6a7c30b",
   "metadata": {},
   "outputs": [
    {
     "ename": "",
     "evalue": "",
     "output_type": "error",
     "traceback": [
      "\u001b[1;31mRunning cells with 'ws3 (Python 3.12.2)' requires the ipykernel package.\n",
      "\u001b[1;31mRun the following command to install 'ipykernel' into the Python environment. \n",
      "\u001b[1;31mCommand: '\"c:/Users/dayan/OneDrive - Universidad Autonoma de Occidente/ETL/Workshop3/ws3/Scripts/python.exe\" -m pip install ipykernel -U --force-reinstall'"
     ]
    }
   ],
   "source": [
    "data_2016.isnull().sum()"
   ]
  },
  {
   "cell_type": "code",
   "execution_count": null,
   "id": "4691f3c9-70be-4b2f-b818-d33b3e3c3f36",
   "metadata": {},
   "outputs": [
    {
     "ename": "",
     "evalue": "",
     "output_type": "error",
     "traceback": [
      "\u001b[1;31mRunning cells with 'ws3 (Python 3.12.2)' requires the ipykernel package.\n",
      "\u001b[1;31mRun the following command to install 'ipykernel' into the Python environment. \n",
      "\u001b[1;31mCommand: '\"c:/Users/dayan/OneDrive - Universidad Autonoma de Occidente/ETL/Workshop3/ws3/Scripts/python.exe\" -m pip install ipykernel -U --force-reinstall'"
     ]
    }
   ],
   "source": [
    "data_2017.isnull().sum()"
   ]
  },
  {
   "cell_type": "code",
   "execution_count": null,
   "id": "547e0985-13ec-4e35-aeb4-835b69f7238b",
   "metadata": {},
   "outputs": [
    {
     "ename": "",
     "evalue": "",
     "output_type": "error",
     "traceback": [
      "\u001b[1;31mRunning cells with 'ws3 (Python 3.12.2)' requires the ipykernel package.\n",
      "\u001b[1;31mRun the following command to install 'ipykernel' into the Python environment. \n",
      "\u001b[1;31mCommand: '\"c:/Users/dayan/OneDrive - Universidad Autonoma de Occidente/ETL/Workshop3/ws3/Scripts/python.exe\" -m pip install ipykernel -U --force-reinstall'"
     ]
    }
   ],
   "source": [
    "data_2018.isnull().sum()"
   ]
  },
  {
   "cell_type": "markdown",
   "id": "52902994-4669-4ab4-9762-f911d33e403b",
   "metadata": {},
   "source": [
    "Here we see that the 2018 data has a null entry in the Corruption Perception column, and since we can't leave this entry null, we simply remove it."
   ]
  },
  {
   "cell_type": "code",
   "execution_count": null,
   "id": "1fe41359-94bb-4029-b40c-af2197f73630",
   "metadata": {},
   "outputs": [
    {
     "ename": "",
     "evalue": "",
     "output_type": "error",
     "traceback": [
      "\u001b[1;31mRunning cells with 'ws3 (Python 3.12.2)' requires the ipykernel package.\n",
      "\u001b[1;31mRun the following command to install 'ipykernel' into the Python environment. \n",
      "\u001b[1;31mCommand: '\"c:/Users/dayan/OneDrive - Universidad Autonoma de Occidente/ETL/Workshop3/ws3/Scripts/python.exe\" -m pip install ipykernel -U --force-reinstall'"
     ]
    }
   ],
   "source": [
    "data_2018 = data_2018.dropna()"
   ]
  },
  {
   "cell_type": "code",
   "execution_count": null,
   "id": "fa6b16f6-e9b5-4735-b5d8-9ef9f7c1568f",
   "metadata": {},
   "outputs": [
    {
     "ename": "",
     "evalue": "",
     "output_type": "error",
     "traceback": [
      "\u001b[1;31mRunning cells with 'ws3 (Python 3.12.2)' requires the ipykernel package.\n",
      "\u001b[1;31mRun the following command to install 'ipykernel' into the Python environment. \n",
      "\u001b[1;31mCommand: '\"c:/Users/dayan/OneDrive - Universidad Autonoma de Occidente/ETL/Workshop3/ws3/Scripts/python.exe\" -m pip install ipykernel -U --force-reinstall'"
     ]
    }
   ],
   "source": [
    "data_2019.isnull().sum()"
   ]
  },
  {
   "cell_type": "markdown",
   "id": "8549cd18-8347-4700-9c1b-0e8e99de83b8",
   "metadata": {},
   "source": [
    "Now, check duplicate entries"
   ]
  },
  {
   "cell_type": "code",
   "execution_count": null,
   "id": "3d103bea-588e-435b-ba81-13679ee01f66",
   "metadata": {},
   "outputs": [
    {
     "ename": "",
     "evalue": "",
     "output_type": "error",
     "traceback": [
      "\u001b[1;31mRunning cells with 'ws3 (Python 3.12.2)' requires the ipykernel package.\n",
      "\u001b[1;31mRun the following command to install 'ipykernel' into the Python environment. \n",
      "\u001b[1;31mCommand: '\"c:/Users/dayan/OneDrive - Universidad Autonoma de Occidente/ETL/Workshop3/ws3/Scripts/python.exe\" -m pip install ipykernel -U --force-reinstall'"
     ]
    }
   ],
   "source": [
    "print(data_2015.duplicated().sum())\n",
    "print(data_2016.duplicated().sum())\n",
    "print(data_2017.duplicated().sum())\n",
    "print(data_2018.duplicated().sum())\n",
    "print(data_2019.duplicated().sum())"
   ]
  },
  {
   "cell_type": "markdown",
   "id": "452bfe9c-a5b1-4f69-b3db-e20c64a38adc",
   "metadata": {},
   "source": [
    "With this information we know that the columns for the years 2017, 2018 and 2019 have errors in some columns, let's fix it."
   ]
  },
  {
   "cell_type": "code",
   "execution_count": null,
   "id": "3f893ad6",
   "metadata": {},
   "outputs": [
    {
     "ename": "",
     "evalue": "",
     "output_type": "error",
     "traceback": [
      "\u001b[1;31mRunning cells with 'ws3 (Python 3.12.2)' requires the ipykernel package.\n",
      "\u001b[1;31mRun the following command to install 'ipykernel' into the Python environment. \n",
      "\u001b[1;31mCommand: '\"c:/Users/dayan/OneDrive - Universidad Autonoma de Occidente/ETL/Workshop3/ws3/Scripts/python.exe\" -m pip install ipykernel -U --force-reinstall'"
     ]
    }
   ],
   "source": [
    "# 2015\n",
    "data_2015['Social support'] = data_2015['Family']\n",
    "data_2015['Year'] = 2015\n",
    "\n",
    "data_2015 = data_2015.drop(columns = ['Family'], axis = 1)\n",
    "\n",
    "data_2015.info()"
   ]
  },
  {
   "cell_type": "code",
   "execution_count": null,
   "id": "53212297",
   "metadata": {},
   "outputs": [
    {
     "ename": "",
     "evalue": "",
     "output_type": "error",
     "traceback": [
      "\u001b[1;31mRunning cells with 'ws3 (Python 3.12.2)' requires the ipykernel package.\n",
      "\u001b[1;31mRun the following command to install 'ipykernel' into the Python environment. \n",
      "\u001b[1;31mCommand: '\"c:/Users/dayan/OneDrive - Universidad Autonoma de Occidente/ETL/Workshop3/ws3/Scripts/python.exe\" -m pip install ipykernel -U --force-reinstall'"
     ]
    }
   ],
   "source": [
    "# 2016\n",
    "data_2016['Social support'] = data_2016['Family']\n",
    "data_2016['Year'] = 2016\n",
    "\n",
    "data_2016 = data_2016.drop(columns = ['Family', 'Lower Confidence Interval', 'Upper Confidence Interval'], axis = 1)\n",
    "\n",
    "data_2016.info()"
   ]
  },
  {
   "cell_type": "code",
   "execution_count": null,
   "id": "efb40e9d-6bc6-4ec3-84a9-88219f5dbee2",
   "metadata": {},
   "outputs": [
    {
     "ename": "",
     "evalue": "",
     "output_type": "error",
     "traceback": [
      "\u001b[1;31mRunning cells with 'ws3 (Python 3.12.2)' requires the ipykernel package.\n",
      "\u001b[1;31mRun the following command to install 'ipykernel' into the Python environment. \n",
      "\u001b[1;31mCommand: '\"c:/Users/dayan/OneDrive - Universidad Autonoma de Occidente/ETL/Workshop3/ws3/Scripts/python.exe\" -m pip install ipykernel -U --force-reinstall'"
     ]
    }
   ],
   "source": [
    "# 2017\n",
    "data_2017['Social support'] = data_2017['Family']\n",
    "data_2017['Trust (Government Corruption)'] = data_2017['Trust..Government.Corruption.']\n",
    "data_2017['Dystopia Residual'] = data_2017['Dystopia.Residual']\n",
    "data_2017['Health (Life Expectancy)'] = data_2017['Health..Life.Expectancy.']\n",
    "data_2017['Economy (GDP per Capita)'] = data_2017['Economy..GDP.per.Capita.']\n",
    "data_2017['Happiness Score'] = data_2017['Happiness.Score']\n",
    "data_2017['Happiness Rank'] = data_2017['Happiness.Rank']\n",
    "data_2017['Year'] = 2017\n",
    "\n",
    "data_2017 = data_2017.drop(columns = ['Family', 'Trust..Government.Corruption.', 'Dystopia.Residual', 'Health..Life.Expectancy.', 'Economy..GDP.per.Capita.', 'Happiness.Score', 'Happiness.Rank', 'Whisker.high', 'Whisker.low'], axis = 1)\n",
    "\n",
    "data_2017.info()"
   ]
  },
  {
   "cell_type": "code",
   "execution_count": null,
   "id": "548ecd42-dd8f-4e93-bd2b-bf7a513e4334",
   "metadata": {},
   "outputs": [
    {
     "ename": "",
     "evalue": "",
     "output_type": "error",
     "traceback": [
      "\u001b[1;31mRunning cells with 'ws3 (Python 3.12.2)' requires the ipykernel package.\n",
      "\u001b[1;31mRun the following command to install 'ipykernel' into the Python environment. \n",
      "\u001b[1;31mCommand: '\"c:/Users/dayan/OneDrive - Universidad Autonoma de Occidente/ETL/Workshop3/ws3/Scripts/python.exe\" -m pip install ipykernel -U --force-reinstall'"
     ]
    }
   ],
   "source": [
    "# 2018\n",
    "\n",
    "data_2018['Happiness Rank'] = data_2018['Overall rank']\n",
    "data_2018['Happiness Score'] = data_2018['Score']\n",
    "data_2018['Economy (GDP per Capita)'] = data_2018['GDP per capita']\n",
    "data_2018['Health (Life Expectancy)'] = data_2018['Healthy life expectancy']\n",
    "data_2018['Freedom'] = data_2018['Freedom to make life choices']\n",
    "data_2018['Trust (Government Corruption)'] = data_2018['Perceptions of corruption']\n",
    "data_2018['Year'] = 2018\n",
    "\n",
    "data_2018 = data_2018.drop(columns = ['Overall rank', 'Score', 'GDP per capita', 'Healthy life expectancy', 'Freedom to make life choices', 'Perceptions of corruption'], axis = 1)\n",
    "\n",
    "data_2018.info()"
   ]
  },
  {
   "cell_type": "code",
   "execution_count": null,
   "id": "002a111a-afaf-4535-a30f-4d95363db6b8",
   "metadata": {},
   "outputs": [
    {
     "ename": "",
     "evalue": "",
     "output_type": "error",
     "traceback": [
      "\u001b[1;31mRunning cells with 'ws3 (Python 3.12.2)' requires the ipykernel package.\n",
      "\u001b[1;31mRun the following command to install 'ipykernel' into the Python environment. \n",
      "\u001b[1;31mCommand: '\"c:/Users/dayan/OneDrive - Universidad Autonoma de Occidente/ETL/Workshop3/ws3/Scripts/python.exe\" -m pip install ipykernel -U --force-reinstall'"
     ]
    }
   ],
   "source": [
    "# 2019\n",
    "\n",
    "data_2019['Happiness Rank'] = data_2019['Overall rank']\n",
    "data_2019['Happiness Score'] = data_2019['Score']\n",
    "data_2019['Economy (GDP per Capita)'] = data_2019['GDP per capita']\n",
    "data_2019['Health (Life Expectancy)'] = data_2019['Healthy life expectancy']\n",
    "data_2019['Freedom'] = data_2019['Freedom to make life choices']\n",
    "data_2019['Trust (Government Corruption)'] = data_2019['Perceptions of corruption']\n",
    "data_2019['Year'] = 2019\n",
    "\n",
    "data_2019 = data_2019.drop(columns = ['Overall rank', 'Score', 'GDP per capita', 'Healthy life expectancy', 'Freedom to make life choices', 'Perceptions of corruption'], axis = 1)\n",
    "\n",
    "data_2019.info()"
   ]
  },
  {
   "cell_type": "markdown",
   "id": "58deaaf6-2573-43f1-a10a-86e3d7994ca3",
   "metadata": {},
   "source": [
    "Previously, we have seen that in the last few years there is only one column with the country (2017) or called country or region (2018, 2019). We will leave only one column called country or region."
   ]
  },
  {
   "cell_type": "code",
   "execution_count": null,
   "id": "192d94e0-b065-4b13-a687-8aae0e3ce817",
   "metadata": {},
   "outputs": [
    {
     "ename": "",
     "evalue": "",
     "output_type": "error",
     "traceback": [
      "\u001b[1;31mRunning cells with 'ws3 (Python 3.12.2)' requires the ipykernel package.\n",
      "\u001b[1;31mRun the following command to install 'ipykernel' into the Python environment. \n",
      "\u001b[1;31mCommand: '\"c:/Users/dayan/OneDrive - Universidad Autonoma de Occidente/ETL/Workshop3/ws3/Scripts/python.exe\" -m pip install ipykernel -U --force-reinstall'"
     ]
    }
   ],
   "source": [
    "data_2015['Country or region'] = data_2015['Country']\n",
    "data_2016['Country or region'] = data_2016['Country']\n",
    "data_2017['Country or region'] = data_2017['Country']\n",
    "\n",
    "data_2015 = data_2015.drop(columns = ['Region'], axis = 1)\n",
    "data_2015 = data_2015.drop(columns = ['Country'], axis = 1)\n",
    "data_2016 = data_2016.drop(columns = ['Region'], axis = 1)\n",
    "data_2016 = data_2016.drop(columns = ['Country'], axis = 1)\n",
    "data_2017 = data_2017.drop(columns = ['Country'], axis = 1)"
   ]
  },
  {
   "cell_type": "code",
   "execution_count": null,
   "id": "9be16b81-a8f6-4ac6-94ab-2fc40de02407",
   "metadata": {},
   "outputs": [
    {
     "ename": "",
     "evalue": "",
     "output_type": "error",
     "traceback": [
      "\u001b[1;31mRunning cells with 'ws3 (Python 3.12.2)' requires the ipykernel package.\n",
      "\u001b[1;31mRun the following command to install 'ipykernel' into the Python environment. \n",
      "\u001b[1;31mCommand: '\"c:/Users/dayan/OneDrive - Universidad Autonoma de Occidente/ETL/Workshop3/ws3/Scripts/python.exe\" -m pip install ipykernel -U --force-reinstall'"
     ]
    }
   ],
   "source": [
    "data_2015['Country or region'].value_counts()"
   ]
  },
  {
   "cell_type": "code",
   "execution_count": null,
   "id": "105fc015",
   "metadata": {},
   "outputs": [
    {
     "ename": "",
     "evalue": "",
     "output_type": "error",
     "traceback": [
      "\u001b[1;31mRunning cells with 'ws3 (Python 3.12.2)' requires the ipykernel package.\n",
      "\u001b[1;31mRun the following command to install 'ipykernel' into the Python environment. \n",
      "\u001b[1;31mCommand: '\"c:/Users/dayan/OneDrive - Universidad Autonoma de Occidente/ETL/Workshop3/ws3/Scripts/python.exe\" -m pip install ipykernel -U --force-reinstall'"
     ]
    }
   ],
   "source": [
    "#  2015 Happiness Score distribution\n",
    "plt.figure(figsize=(10, 6))\n",
    "sns.histplot(data_2015['Happiness Score'], kde=True, color='blue')\n",
    "plt.title('Distribution of Happiness Scores for 2015')\n",
    "plt.xlabel('Happiness Score')\n",
    "plt.ylabel('Frequency')\n",
    "plt.show()"
   ]
  },
  {
   "cell_type": "markdown",
   "id": "dba7388b",
   "metadata": {},
   "source": [
    "### Now I combined the data"
   ]
  },
  {
   "cell_type": "code",
   "execution_count": null,
   "id": "9cb1b196",
   "metadata": {},
   "outputs": [
    {
     "ename": "",
     "evalue": "",
     "output_type": "error",
     "traceback": [
      "\u001b[1;31mRunning cells with 'ws3 (Python 3.12.2)' requires the ipykernel package.\n",
      "\u001b[1;31mRun the following command to install 'ipykernel' into the Python environment. \n",
      "\u001b[1;31mCommand: '\"c:/Users/dayan/OneDrive - Universidad Autonoma de Occidente/ETL/Workshop3/ws3/Scripts/python.exe\" -m pip install ipykernel -U --force-reinstall'"
     ]
    }
   ],
   "source": [
    "all_data = pd.concat([\n",
    "    data_2015,\n",
    "    data_2016,\n",
    "    data_2017,\n",
    "    data_2018,\n",
    "    data_2019\n",
    "])"
   ]
  },
  {
   "cell_type": "code",
   "execution_count": null,
   "id": "ff732546",
   "metadata": {},
   "outputs": [
    {
     "ename": "",
     "evalue": "",
     "output_type": "error",
     "traceback": [
      "\u001b[1;31mRunning cells with 'ws3 (Python 3.12.2)' requires the ipykernel package.\n",
      "\u001b[1;31mRun the following command to install 'ipykernel' into the Python environment. \n",
      "\u001b[1;31mCommand: '\"c:/Users/dayan/OneDrive - Universidad Autonoma de Occidente/ETL/Workshop3/ws3/Scripts/python.exe\" -m pip install ipykernel -U --force-reinstall'"
     ]
    }
   ],
   "source": [
    "all_data.head()"
   ]
  },
  {
   "cell_type": "code",
   "execution_count": null,
   "id": "16f7ff78",
   "metadata": {},
   "outputs": [
    {
     "ename": "",
     "evalue": "",
     "output_type": "error",
     "traceback": [
      "\u001b[1;31mRunning cells with 'ws3 (Python 3.12.2)' requires the ipykernel package.\n",
      "\u001b[1;31mRun the following command to install 'ipykernel' into the Python environment. \n",
      "\u001b[1;31mCommand: '\"c:/Users/dayan/OneDrive - Universidad Autonoma de Occidente/ETL/Workshop3/ws3/Scripts/python.exe\" -m pip install ipykernel -U --force-reinstall'"
     ]
    }
   ],
   "source": [
    "plt.figure(figsize=(12, 8))\n",
    "sns.boxplot(x='Year', y='Happiness Score', data=all_data)\n",
    "plt.title('Happiness Score Distribution by Year')\n",
    "plt.xlabel('Year')\n",
    "plt.ylabel('Happiness Score')\n",
    "plt.show()"
   ]
  },
  {
   "cell_type": "code",
   "execution_count": null,
   "id": "b0ac71fe",
   "metadata": {},
   "outputs": [
    {
     "ename": "",
     "evalue": "",
     "output_type": "error",
     "traceback": [
      "\u001b[1;31mRunning cells with 'ws3 (Python 3.12.2)' requires the ipykernel package.\n",
      "\u001b[1;31mRun the following command to install 'ipykernel' into the Python environment. \n",
      "\u001b[1;31mCommand: '\"c:/Users/dayan/OneDrive - Universidad Autonoma de Occidente/ETL/Workshop3/ws3/Scripts/python.exe\" -m pip install ipykernel -U --force-reinstall'"
     ]
    }
   ],
   "source": [
    "all_data.to_csv('data/combined_data.csv', index=False)"
   ]
  }
 ],
 "metadata": {
  "kernelspec": {
   "display_name": "Python 3 (ipykernel)",
   "language": "python",
   "name": "python3"
  },
  "language_info": {
   "codemirror_mode": {
    "name": "ipython",
    "version": 3
   },
   "file_extension": ".py",
   "mimetype": "text/x-python",
   "name": "python",
   "nbconvert_exporter": "python",
   "pygments_lexer": "ipython3",
   "version": "3.12.2"
  }
 },
 "nbformat": 4,
 "nbformat_minor": 5
}
